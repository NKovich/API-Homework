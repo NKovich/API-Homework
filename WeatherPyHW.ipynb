{
 "cells": [
  {
   "cell_type": "markdown",
   "metadata": {},
   "source": [
    "# WeatherPy\n",
    "----\n",
    "\n",
    "#### Note\n",
    "* Instructions have been included for each segment. You do not have to follow them exactly, but they are included to help you think through the steps."
   ]
  },
  {
   "cell_type": "code",
   "execution_count": 2,
   "metadata": {
    "scrolled": true
   },
   "outputs": [],
   "source": [
    "# Dependencies and Setup\n",
    "import matplotlib.pyplot as plt\n",
    "import pandas as pd\n",
    "import numpy as np\n",
    "import requests\n",
    "import time\n",
    "\n",
    "# Import API key\n",
    "from api_keys import api_key\n",
    "\n",
    "# Incorporated citipy to determine city based on latitude and longitude\n",
    "from citipy import citipy\n",
    "\n",
    "# Output File (CSV)\n",
    "output_data_file = \"output_data/cities.csv\"\n",
    "\n",
    "# Range of latitudes and longitudes\n",
    "lat_range = (-90, 90)\n",
    "lng_range = (-180, 180)"
   ]
  },
  {
   "cell_type": "markdown",
   "metadata": {},
   "source": [
    "## Generate Cities List"
   ]
  },
  {
   "cell_type": "code",
   "execution_count": 6,
   "metadata": {},
   "outputs": [
    {
     "data": {
      "text/plain": [
       "617"
      ]
     },
     "execution_count": 6,
     "metadata": {},
     "output_type": "execute_result"
    }
   ],
   "source": [
    "# List for holding lat_lngs and cities\n",
    "lat_lngs = []\n",
    "cities = []\n",
    "\n",
    "# Create a set of random lat and lng combinations\n",
    "#https://docs.scipy.org/doc/numpy/reference/generated/numpy.random.uniform.html\n",
    "#numpy.random.uniform(low=0.0, high=1.0, size=None)\n",
    "#Draw samples from a uniform distribution.\n",
    "#Samples are uniformly distributed over the half-open interval [low, high) (includes low, but excludes high). \n",
    "#In other words, any value within the given interval is equally likely to be drawn by uniform.\n",
    "lats = np.random.uniform(low=-90.000, high=90.000, size=1500)\n",
    "lngs = np.random.uniform(low=-180.000, high=180.000, size=1500)\n",
    "lat_lngs = zip(lats, lngs)\n",
    "\n",
    "# Identify nearest city for each lat, lng combination\n",
    "for lat_lng in lat_lngs:\n",
    "    city = citipy.nearest_city(lat_lng[0], lat_lng[1]).city_name\n",
    "    \n",
    "    # If the city is unique, then add it to a our cities list\n",
    "    if city not in cities:\n",
    "        cities.append(city)\n",
    "\n",
    "# Print the city count to confirm sufficient count\n",
    "len(cities)"
   ]
  },
  {
   "cell_type": "markdown",
   "metadata": {},
   "source": [
    "Next, spend the requisite time necessary to study the OpenWeatherMap API. Based on your initial study, you should be able to answer  basic questions about the API: Where do you request the API key? Which Weather API in particular will you need? What URL endpoints does it expect? What JSON structure does it respond with? Before you write a line of code, you should be aiming to have a crystal clear understanding of your intended outcome."
   ]
  },
  {
   "cell_type": "markdown",
   "metadata": {},
   "source": [
    "### Perform API Calls\n",
    "* Perform a weather check on each city using a series of successive API calls.\n",
    "* Include a print log of each city as it'sbeing processed (with the city number and city name).\n"
   ]
  },
  {
   "cell_type": "code",
   "execution_count": 25,
   "metadata": {},
   "outputs": [
    {
     "name": "stdout",
     "output_type": "stream",
     "text": [
      "Processing Record 1 of set 1 | gerash\n"
     ]
    },
    {
     "ename": "AttributeError",
     "evalue": "'str' object has no attribute 'append'",
     "output_type": "error",
     "traceback": [
      "\u001b[1;31m---------------------------------------------------------------------------\u001b[0m",
      "\u001b[1;31mAttributeError\u001b[0m                            Traceback (most recent call last)",
      "\u001b[1;32m<ipython-input-25-dd4722763804>\u001b[0m in \u001b[0;36m<module>\u001b[1;34m\u001b[0m\n\u001b[0;32m     42\u001b[0m \u001b[1;32mfor\u001b[0m \u001b[0mcity\u001b[0m \u001b[1;32min\u001b[0m \u001b[0mcities\u001b[0m\u001b[1;33m:\u001b[0m\u001b[1;33m\u001b[0m\u001b[1;33m\u001b[0m\u001b[0m\n\u001b[0;32m     43\u001b[0m     \u001b[0mprint\u001b[0m\u001b[1;33m(\u001b[0m\u001b[1;34mf\"Processing Record {record} of set {setting} | {city}\"\u001b[0m\u001b[1;33m)\u001b[0m\u001b[1;33m\u001b[0m\u001b[1;33m\u001b[0m\u001b[0m\n\u001b[1;32m---> 44\u001b[1;33m     \u001b[0mcity\u001b[0m\u001b[1;33m.\u001b[0m\u001b[0mappend\u001b[0m\u001b[1;33m(\u001b[0m\u001b[0mresponse\u001b[0m\u001b[1;33m[\u001b[0m\u001b[1;34m\"name\"\u001b[0m\u001b[1;33m]\u001b[0m\u001b[1;33m)\u001b[0m\u001b[1;33m\u001b[0m\u001b[1;33m\u001b[0m\u001b[0m\n\u001b[0m\u001b[0;32m     45\u001b[0m     \u001b[0mcloudiness\u001b[0m\u001b[1;33m.\u001b[0m\u001b[0mappend\u001b[0m\u001b[1;33m(\u001b[0m\u001b[0mresponse\u001b[0m\u001b[1;33m[\u001b[0m\u001b[1;34m\"clouds\"\u001b[0m\u001b[1;33m]\u001b[0m\u001b[1;33m[\u001b[0m\u001b[1;34m\"all\"\u001b[0m\u001b[1;33m]\u001b[0m\u001b[1;33m)\u001b[0m\u001b[1;33m\u001b[0m\u001b[1;33m\u001b[0m\u001b[0m\n\u001b[0;32m     46\u001b[0m     \u001b[0mcountry\u001b[0m\u001b[1;33m.\u001b[0m\u001b[0mappend\u001b[0m\u001b[1;33m(\u001b[0m\u001b[0mresponse\u001b[0m\u001b[1;33m[\u001b[0m\u001b[1;34m\"sys\"\u001b[0m\u001b[1;33m]\u001b[0m\u001b[1;33m[\u001b[0m\u001b[1;34m\"country\"\u001b[0m\u001b[1;33m]\u001b[0m\u001b[1;33m)\u001b[0m\u001b[1;33m\u001b[0m\u001b[1;33m\u001b[0m\u001b[0m\n",
      "\u001b[1;31mAttributeError\u001b[0m: 'str' object has no attribute 'append'"
     ]
    }
   ],
   "source": [
    "'''\n",
    "Your objective is to build a series of scatter plots to showcase the following relationships:\n",
    "Temperature (F) vs. Latitude\n",
    "Humidity (%) vs. Latitude\n",
    "Cloudiness (%) vs. Latitude\n",
    "Wind Speed (mph) vs. Latitude\n",
    "'''\n",
    "\n",
    "'''\n",
    "City          547\n",
    "Cloudiness    547\n",
    "Country       547\n",
    "Date          547\n",
    "Humidity      547\n",
    "Lat           547\n",
    "Lng           547\n",
    "Max Temp      547\n",
    "Wind Speed    547\n",
    "dtype: int64\n",
    "'''\n",
    "\n",
    "# need to loop through the cities \"on each city\",print\n",
    "#Session 2: Burandi+\n",
    "url = \"http://api.openweathermap.org/data/2.5/weather?\"\n",
    "response = requests.get(url + city).json() \n",
    "record = 1 \n",
    "setting = 1\n",
    "city = []\n",
    "cloudiness =[]\n",
    "country = []\n",
    "date = []\n",
    "humidity = []\n",
    "lat = []\n",
    "long = []\n",
    "temp = []\n",
    "wind_speed = []\n",
    "\n",
    "\n",
    "for city in cities: \n",
    "    print(f\"Processing Record {record} of set {setting} | {city}\")\n",
    "    city.append(response[\"name\"])\n",
    "    cloudiness.append(response[\"clouds\"][\"all\"])\n",
    "    country.append(response[\"sys\"][\"country\"])\n",
    "    date.append(response[\"dt\"])\n",
    "    humidity.append(response[\"main\"][\"humidity\"])\n",
    "    lat.append(response[\"main\"][\"temp_max\"])\n",
    "    long.append(response[\"coord\"][\"lat\"])\n",
    "    temp.append(response[\"coord\"][\"lon\"])\n",
    "    wind_speed.append(response[\"wind\"][\"speed\"])\n",
    "       \n",
    "    record += 1\n",
    "    setting += 1\n",
    "\n",
    "#AttributeError: 'str' object has no attribute 'append'\n",
    "#AttributeError: 'str' object has no attribute 'extend'\n",
    "#concatenate a string...."
   ]
  },
  {
   "cell_type": "markdown",
   "metadata": {},
   "source": [
    "### Convert Raw Data to DataFrame\n",
    "* Export the city data into a .csv.\n",
    "* Display the DataFrame"
   ]
  },
  {
   "cell_type": "code",
   "execution_count": 28,
   "metadata": {},
   "outputs": [
    {
     "data": {
      "text/plain": [
       "City          0\n",
       "Cloudiness    0\n",
       "Country       0\n",
       "Date          0\n",
       "Humidity      0\n",
       "Lat           0\n",
       "Lng           0\n",
       "Max Temp      0\n",
       "Wind Speed    0\n",
       "dtype: int64"
      ]
     },
     "execution_count": 28,
     "metadata": {},
     "output_type": "execute_result"
    }
   ],
   "source": [
    "#buildthedf\n",
    "#dataframeshop\n",
    "city_df = pd.DataFrame({\n",
    "    \"City\": city,\n",
    "    \"Cloudiness\": cloudiness, \n",
    "    \"Country\": country,\n",
    "    \"Date\": date, \n",
    "    \"Humidity\": humidity,\n",
    "    \"Lat\": lat, \n",
    "    \"Lng\": long, \n",
    "    \"Max Temp\": temp,\n",
    "    \"Wind Speed\": wind_speed})\n",
    "\n",
    "#city_df\n",
    "\n",
    "# Showing the count like the example solution\n",
    "city_df.count()"
   ]
  },
  {
   "cell_type": "code",
   "execution_count": null,
   "metadata": {},
   "outputs": [],
   "source": [
    "#make csv and dispay t\n",
    "city_df.to_csv(\"output_data/cities.csv\")\n",
    "city_df.head()"
   ]
  },
  {
   "cell_type": "markdown",
   "metadata": {},
   "source": [
    "### Plotting the Data\n",
    "* Use proper labeling of the plots using plot titles (including date of analysis) and axes labels.\n",
    "* Save the plotted figures as .pngs."
   ]
  },
  {
   "cell_type": "markdown",
   "metadata": {},
   "source": [
    "#### Latitude vs. Temperature Plot"
   ]
  },
  {
   "cell_type": "code",
   "execution_count": null,
   "metadata": {},
   "outputs": [],
   "source": [
    "# Tells matplotlib that we want to make a scatter plot\n",
    "plt.scatter(lat, temp, marker=\"o\", facecolors=\"blue\", edgecolors=\"black\",\n",
    "            alpha=0.75) \n",
    "     \n",
    "#The y limits \n",
    "plt.ylim(0, 100)  \n",
    "# The x limits \n",
    "plt.xlim(0, 80) \n",
    "#Create a title, x label, and y label for our chart\n",
    "plt.title(\"City Latitude vs Max Temperature\")\n",
    "plt.xlabel(\"Latitude\")\n",
    "plt.ylabel(\"Max Temperature (F)\") \n",
    "plt.grid(True)\n",
    "#save as pngs\n",
    "plt.savefig(\"../Images/LatvTemp.png\")\n",
    "# Prints the scatter plot to the screen\n",
    "plt.show()\n"
   ]
  },
  {
   "cell_type": "markdown",
   "metadata": {},
   "source": [
    "#### Latitude vs. Humidity Plot"
   ]
  },
  {
   "cell_type": "code",
   "execution_count": null,
   "metadata": {},
   "outputs": [],
   "source": [
    "plt.scatter(lat, humidity, marker=\"o\", facecolors=\"blue\", edgecolors=\"black\",\n",
    "            alpha=0.75)\n",
    "#The y limits\n",
    "plt.ylim(0, 100)  \n",
    "# The x limits \n",
    "plt.xlim(0, 80) \n",
    "#Create a title, x label, and y label for our chart\n",
    "plt.title(\"City Humidity vs Max Temperature\")\n",
    "plt.xlabel(\"Latitude\")\n",
    "plt.ylabel(\"Humidity (%)\") \n",
    "plt.grid(True)\n",
    "#save as png\n",
    "plt.savefig(\"../Images/LatvHumidity.png\")\n",
    "# Prints the scatter plot to the screen\n",
    "plt.show()\n"
   ]
  },
  {
   "cell_type": "markdown",
   "metadata": {},
   "source": [
    "#### Latitude vs. Cloudiness Plot"
   ]
  },
  {
   "cell_type": "code",
   "execution_count": null,
   "metadata": {},
   "outputs": [],
   "source": [
    "plt.scatter(lat, cloudiness, marker=\"o\", facecolors=\"blue\", edgecolors=\"black\",\n",
    "            alpha=0.75)\n",
    "#The y limits \n",
    "plt.ylim(0, 100)  \n",
    "# The x limits \n",
    "plt.xlim(0, 80) \n",
    "#Create a title, x label, and y label for our chart\n",
    "plt.title(\"City Latitude vs Cloudiness\")\n",
    "plt.xlabel(\"Latitude\")\n",
    "plt.ylabel(\"Cloudiness (%)\")\n",
    "plt.grid(True)\n",
    "#save as png\n",
    "plt.savefig(\"../Images/LatvCloudiness.png\")\n",
    "# Prints the scatter plot to the screen\n",
    "plt.show()\n"
   ]
  },
  {
   "cell_type": "markdown",
   "metadata": {},
   "source": [
    "#### Latitude vs. Wind Speed Plot"
   ]
  },
  {
   "cell_type": "code",
   "execution_count": null,
   "metadata": {},
   "outputs": [],
   "source": [
    "plt.scatter(lat, wind_speed, marker=\"o\", facecolors=\"blue\", edgecolors=\"black\",\n",
    "            alpha=0.75)\n",
    "#The y limits \n",
    "plt.ylim(0, 100)  \n",
    "# The x limits \n",
    "plt.xlim(0, 80) \n",
    "#Create a title, x label, and y label for our chart\n",
    "plt.title(\"City Latitude vs wind Speed\")\n",
    "plt.xlabel(\"Latitude\")\n",
    "plt.ylabel(\"Wind Speed (mph)\") \n",
    "plt.grid(True)\n",
    "#save as png\n",
    "plt.savefig(\"../Images/LatvWindSpeed.png\")\n",
    "# Prints the scatter plot to the screen\n",
    "plt.show()\n"
   ]
  }
 ],
 "metadata": {
  "anaconda-cloud": {},
  "kernel_info": {
   "name": "python3"
  },
  "kernelspec": {
   "display_name": "Python 3",
   "language": "python",
   "name": "python3"
  },
  "language_info": {
   "codemirror_mode": {
    "name": "ipython",
    "version": 3
   },
   "file_extension": ".py",
   "mimetype": "text/x-python",
   "name": "python",
   "nbconvert_exporter": "python",
   "pygments_lexer": "ipython3",
   "version": "3.7.3"
  },
  "nteract": {
   "version": "0.12.3"
  }
 },
 "nbformat": 4,
 "nbformat_minor": 2
}
